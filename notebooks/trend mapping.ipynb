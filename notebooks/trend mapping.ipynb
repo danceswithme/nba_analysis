{
 "cells": [
  {
   "cell_type": "code",
   "execution_count": 16,
   "id": "caf33245-a9b0-4dd7-bf23-c3f639b576bd",
   "metadata": {},
   "outputs": [],
   "source": [
    "import pandas as pd\n",
    "import matplotlib.pyplot as plt\n",
    "import os"
   ]
  },
  {
   "cell_type": "code",
   "execution_count": 17,
   "id": "153ec9a4-e411-4307-badb-86a2a754a125",
   "metadata": {},
   "outputs": [],
   "source": [
    "# Load JSON data\n",
    "player_movements_data = pd.read_json('player_movements.json', lines=True)"
   ]
  },
  {
   "cell_type": "code",
   "execution_count": 18,
   "id": "2cf96b47-e789-434f-8183-1ee81e22b0eb",
   "metadata": {},
   "outputs": [],
   "source": [
    "# Create the directory if it doesn't exist\n",
    "output_dir = '/Trend Outputs'\n",
    "if not os.path.exists(output_dir):\n",
    "    os.makedirs(output_dir)"
   ]
  },
  {
   "cell_type": "code",
   "execution_count": 4,
   "id": "4cd15f65-46eb-45cb-8469-8fd9dcbdc246",
   "metadata": {},
   "outputs": [],
   "source": [
    "# Function to calculate average tax tier\n",
    "def calculate_average_tax_tier(row):\n",
    "    tiers = {'No Tax': 0, 'Low': 1, 'Medium': 2, 'High': 3}\n",
    "    year1 = tiers.get(row['prev_state_tier_year1'], -1)\n",
    "    year2 = tiers.get(row['prev_state_tier_year2'], -1)\n",
    "    return max(year1, year2) if year1 != year2 else year1"
   ]
  },
  {
   "cell_type": "code",
   "execution_count": 5,
   "id": "64796503-9411-4df2-a8b1-c8c90224c35d",
   "metadata": {},
   "outputs": [],
   "source": [
    "# Calculate average tax tier\n",
    "player_movements_data['Average Tax Tier'] = player_movements_data.apply(calculate_average_tax_tier, axis=1)\n"
   ]
  },
  {
   "cell_type": "code",
   "execution_count": 6,
   "id": "ca3a4778-916b-4a1a-8861-e395c0401865",
   "metadata": {},
   "outputs": [],
   "source": [
    "# Ensure the PCI columns are converted to floats\n",
    "player_movements_data['new_city_pci_year1'] = player_movements_data['new_city_pci_year1'].str.replace(\",\", \"\").astype(float)\n",
    "player_movements_data['prev_city_pci_year1'] = player_movements_data['prev_city_pci_year1'].str.replace(\",\", \"\").astype(float)\n",
    "player_movements_data['new_city_pci_year2'] = player_movements_data['new_city_pci_year2'].str.replace(\",\", \"\").astype(float)\n",
    "player_movements_data['prev_city_pci_year2'] = player_movements_data['prev_city_pci_year2'].str.replace(\",\", \"\").astype(float)"
   ]
  },
  {
   "cell_type": "code",
   "execution_count": 7,
   "id": "7577e89b-5b15-4cc3-8fa2-67c29f30e17f",
   "metadata": {},
   "outputs": [],
   "source": [
    "# Calculate average PCI for year 1 and year 2\n",
    "player_movements_data['new_city_avg_pci'] = (player_movements_data['new_city_pci_year1'] + player_movements_data['new_city_pci_year2']) / 2\n",
    "player_movements_data['prev_city_avg_pci'] = (player_movements_data['prev_city_pci_year1'] + player_movements_data['prev_city_pci_year2']) / 2"
   ]
  },
  {
   "cell_type": "code",
   "execution_count": 8,
   "id": "9a609210-99e5-4c0e-a02b-6e78d1dd9082",
   "metadata": {},
   "outputs": [],
   "source": [
    "# Calculate PCI difference\n",
    "player_movements_data['PCI Difference'] = player_movements_data['new_city_avg_pci'] - player_movements_data['prev_city_avg_pci']"
   ]
  },
  {
   "cell_type": "code",
   "execution_count": 9,
   "id": "3eb07440-056e-4ede-b56b-9255257eee59",
   "metadata": {},
   "outputs": [],
   "source": [
    "# Ensure the temperature columns are converted to floats\n",
    "player_movements_data['new_city_year1_avg_temp'] = player_movements_data['new_city_year1_avg_temp'].astype(float)\n",
    "player_movements_data['prev_city_year1_avg_temp'] = player_movements_data['prev_city_year1_avg_temp'].astype(float)\n",
    "player_movements_data['new_city_year2_avg_temp'] = player_movements_data['new_city_year2_avg_temp'].astype(float)\n",
    "player_movements_data['prev_city_year2_avg_temp'] = player_movements_data['prev_city_year2_avg_temp'].astype(float)"
   ]
  },
  {
   "cell_type": "code",
   "execution_count": 10,
   "id": "1583c4e8-0701-427c-9d7b-da6360f52e81",
   "metadata": {},
   "outputs": [],
   "source": [
    "# Calculate average temperature for year 1 and year 2\n",
    "player_movements_data['new_city_avg_temp'] = (player_movements_data['new_city_year1_avg_temp'] + player_movements_data['new_city_year2_avg_temp']) / 2\n",
    "player_movements_data['prev_city_avg_temp'] = (player_movements_data['prev_city_year1_avg_temp'] + player_movements_data['prev_city_year2_avg_temp']) / 2"
   ]
  },
  {
   "cell_type": "code",
   "execution_count": 11,
   "id": "7cd01282-d626-4cdb-b5c9-8dd4a1d5ca37",
   "metadata": {},
   "outputs": [],
   "source": [
    "# Calculate temperature difference\n",
    "player_movements_data['Temperature Difference'] = player_movements_data['new_city_avg_temp'] - player_movements_data['prev_city_avg_temp']\n"
   ]
  },
  {
   "cell_type": "code",
   "execution_count": 12,
   "id": "2de04460-d3e2-48c1-9668-da1488f9f3bb",
   "metadata": {},
   "outputs": [],
   "source": [
    "# Define the bins and labels\n",
    "bins = [1940, 1980, 1999, 2015, 2025]\n",
    "labels = ['1940-1980', '1981-1999', '2000-2015', '2016-2025']"
   ]
  },
  {
   "cell_type": "code",
   "execution_count": 13,
   "id": "76d6560d-7665-4a67-aa69-a3d5355a1f0f",
   "metadata": {},
   "outputs": [],
   "source": [
    "# Categorize data into bins\n",
    "player_movements_data['year_bin'] = pd.cut(player_movements_data['Year 1'], bins=bins, labels=labels, right=False)"
   ]
  },
  {
   "cell_type": "code",
   "execution_count": 14,
   "id": "dd1dbbcf-1ba5-4957-839d-b580d9c6cfbe",
   "metadata": {},
   "outputs": [],
   "source": [
    "# Function to plot and save frequency bar charts\n",
    "def plot_frequency_bar(data, column, title, xlabel, filename):\n",
    "    data[column].plot(kind='hist', bins=4, rwidth=0.8)\n",
    "    plt.title(title)\n",
    "    plt.xlabel(xlabel)\n",
    "    plt.ylabel('Frequency')\n",
    "    plt.savefig(os.path.join(output_dir, filename))\n",
    "    plt.close()"
   ]
  },
  {
   "cell_type": "code",
   "execution_count": 15,
   "id": "573ee45b-c616-45fa-a6fe-ad50f0493722",
   "metadata": {},
   "outputs": [],
   "source": [
    "# Plot frequency bar charts for each bin\n",
    "for label in labels:\n",
    "    bin_data = player_movements_data[player_movements_data['year_bin'] == label]\n",
    "    \n",
    "    # PCI value plot\n",
    "    plot_frequency_bar(bin_data, 'PCI Difference', f'PCI Difference Frequency ({label})', 'PCI Difference', f'pci_difference_{label}.png')\n",
    "    plot_frequency_bar(bin_data, 'new_city_avg_pci', f'New City Average PCI Frequency ({label})', 'Average PCI', f'new_city_avg_pci_{label}.png')\n",
    "    plot_frequency_bar(bin_data, 'prev_city_avg_pci', f'Previous City Average PCI Frequency ({label})', 'Average PCI', f'prev_city_avg_pci_{label}.png')\n",
    "    \n",
    "    # Temperature value plot\n",
    "    plot_frequency_bar(bin_data, 'Temperature Difference', f'Temperature Difference Frequency ({label})', 'Temperature Difference (deg C)', f'temperature_difference_{label}.png')\n",
    "    plot_frequency_bar(bin_data, 'new_city_avg_temp', f'New City Average Temperature Frequency ({label})', 'Average Temperature (deg C)', f'new_city_avg_temp_{label}.png')\n",
    "    plot_frequency_bar(bin_data, 'prev_city_avg_temp', f'Previous City Average Temperature Frequency ({label})', 'Average Temperature (deg C)', f'prev_city_avg_temp_{label}.png')\n",
    "    \n",
    "    # Tax tier plot\n",
    "    plot_frequency_bar(bin_data, 'Average Tax Tier', f'Average Tax Tier Frequency ({label})', 'Average Tax Tier', f'average_tax_tier_{label}.png')"
   ]
  },
  {
   "cell_type": "code",
   "execution_count": null,
   "id": "30f3d57b-9b5a-4b2b-b9a5-278e4c0fd07a",
   "metadata": {},
   "outputs": [],
   "source": []
  },
  {
   "cell_type": "code",
   "execution_count": null,
   "id": "aa22fdd8-8ae3-44f7-bc69-eab632aa1155",
   "metadata": {},
   "outputs": [],
   "source": []
  }
 ],
 "metadata": {
  "kernelspec": {
   "display_name": "Python 3 (ipykernel)",
   "language": "python",
   "name": "python3"
  },
  "language_info": {
   "codemirror_mode": {
    "name": "ipython",
    "version": 3
   },
   "file_extension": ".py",
   "mimetype": "text/x-python",
   "name": "python",
   "nbconvert_exporter": "python",
   "pygments_lexer": "ipython3",
   "version": "3.10.5"
  }
 },
 "nbformat": 4,
 "nbformat_minor": 5
}
