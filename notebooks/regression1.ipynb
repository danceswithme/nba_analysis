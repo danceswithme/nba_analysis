{
 "cells": [
  {
   "cell_type": "code",
   "execution_count": 24,
   "id": "e9b66e32-5309-4287-859b-a935328d5a5f",
   "metadata": {},
   "outputs": [],
   "source": [
    "import pandas as pd\n",
    "import json\n",
    "from scipy.stats import ttest_rel"
   ]
  },
  {
   "cell_type": "code",
   "execution_count": 25,
   "id": "7f5a7f6b-524c-414f-b978-e91b81e9d192",
   "metadata": {},
   "outputs": [],
   "source": [
    "# Function to load JSON lines from a file\n",
    "def load_json_lines(filename):\n",
    "    data = []\n",
    "    with open(filename, 'r') as file:\n",
    "        for line in file:\n",
    "            try:\n",
    "                data.append(json.loads(line))\n",
    "            except json.JSONDecodeError as e:\n",
    "                print(f\"Error decoding JSON in file {filename}: {e}\")\n",
    "    return data"
   ]
  },
  {
   "cell_type": "code",
   "execution_count": 26,
   "id": "12f57b91-b351-4103-b066-ea73d9bd9677",
   "metadata": {},
   "outputs": [],
   "source": [
    "# Load JSON data\n",
    "player_movements_data = load_json_lines('player_movements.json')\n",
    "pci_data = load_json_lines('player_movements_pci.json')\n",
    "tax_data = load_json_lines('player_movements_tax.json')\n",
    "temp_data = load_json_lines('player_movements_temp.json')"
   ]
  },
  {
   "cell_type": "code",
   "execution_count": 27,
   "id": "a8ed9979-0698-43a0-ae3e-28e0c82c35df",
   "metadata": {},
   "outputs": [],
   "source": [
    "# Convert JSON data to DataFrames\n",
    "player_movements_df = pd.json_normalize(player_movements_data)\n",
    "pci_df = pd.json_normalize(pci_data)\n",
    "tax_df = pd.json_normalize(tax_data)\n",
    "temp_df = pd.json_normalize(temp_data)"
   ]
  },
  {
   "cell_type": "code",
   "execution_count": 28,
   "id": "5289f6a7-a769-427f-b39c-aa875d5abcf3",
   "metadata": {},
   "outputs": [],
   "source": [
    "# Merge DataFrames\n",
    "merged_df = player_movements_df.merge(pci_df, left_on='_id.$oid', right_on='_id.$oid')\\\n",
    "                               .merge(tax_df, left_on='_id.$oid', right_on='_id.$oid')\\\n",
    "                               .merge(temp_df, left_on='_id.$oid', right_on='_id.$oid')"
   ]
  },
  {
   "cell_type": "code",
   "execution_count": 39,
   "id": "6162542c-50ea-4ff1-ba4b-b6d66edd9049",
   "metadata": {},
   "outputs": [
    {
     "name": "stdout",
     "output_type": "stream",
     "text": [
      "Columns in merged DataFrame: Index(['Name', 'Former City', 'New City', 'Year 1', 'Year 2',\n",
      "       'prev_city_latitude', 'prev_city_longitude', 'new_city_latitude',\n",
      "       'new_city_longitude', 'prev_city_year1_avg_temp_x',\n",
      "       'prev_city_year2_avg_temp_x', 'new_city_year1_avg_temp_x',\n",
      "       'new_city_year2_avg_temp_x', 'new_city_state', 'prev_city_state',\n",
      "       'new_city_pci_year1_x', 'new_city_pci_year2_x', 'prev_city_pci_year1_x',\n",
      "       'prev_city_pci_year2_x', 'new_state_tier_year1_x',\n",
      "       'new_state_tier_year2_x', 'prev_state_tier_year1_x',\n",
      "       'prev_state_tier_year2_x', '_id.$oid', 'new_city_pci_year1_y',\n",
      "       'new_city_pci_year2_y', 'prev_city_pci_year1_y',\n",
      "       'prev_city_pci_year2_y', 'new_state_tier_year1_y',\n",
      "       'new_state_tier_year2_y', 'prev_state_tier_year1_y',\n",
      "       'prev_state_tier_year2_y', 'prev_city_year1_avg_temp_y',\n",
      "       'prev_city_year2_avg_temp_y', 'new_city_year1_avg_temp_y',\n",
      "       'new_city_year2_avg_temp_y', 'temp_diff_year1', 'temp_diff_year2',\n",
      "       'pci_diff_year1', 'pci_diff_year2', 'tax_diff_year1', 'tax_diff_year2'],\n",
      "      dtype='object')\n"
     ]
    }
   ],
   "source": [
    "# Inspect columns to ensure correct names\n",
    "print(\"Columns in merged DataFrame:\", merged_df.columns)"
   ]
  },
  {
   "cell_type": "code",
   "execution_count": 41,
   "id": "a8d5dce3-81f7-419c-aacd-f9e1e6ba7015",
   "metadata": {},
   "outputs": [],
   "source": [
    "# Calculate temperature, tax, and PCI differences\n",
    "merged_df['temp_diff_year1'] = merged_df['new_city_year1_avg_temp_y'] - merged_df['prev_city_year1_avg_temp_y']\n",
    "merged_df['temp_diff_year2'] = merged_df['new_city_year2_avg_temp_y'] - merged_df['prev_city_year2_avg_temp_y']\n",
    "\n",
    "# Handle missing or invalid PCI values\n",
    "merged_df['new_city_pci_year1_y'] = pd.to_numeric(merged_df['new_city_pci_year1_y'].str.replace(',', ''), errors='coerce')\n",
    "merged_df['prev_city_pci_year1_y'] = pd.to_numeric(merged_df['prev_city_pci_year1_y'].str.replace(',', ''), errors='coerce')\n",
    "merged_df['new_city_pci_year2_y'] = pd.to_numeric(merged_df['new_city_pci_year2_y'].str.replace(',', ''), errors='coerce')\n",
    "merged_df['prev_city_pci_year2_y'] = pd.to_numeric(merged_df['prev_city_pci_year2_y'].str.replace(',', ''), errors='coerce')\n",
    "\n",
    "merged_df['pci_diff_year1'] = merged_df['new_city_pci_year1_y'] - merged_df['prev_city_pci_year1_y']\n",
    "merged_df['pci_diff_year2'] = merged_df['new_city_pci_year2_y'] - merged_df['prev_city_pci_year2_y']\n",
    "\n",
    "# Convert tax tier categorical values to numerical values\n",
    "tax_tier_mapping = {'no tax': 0, 'low': 1, 'moderate': 2, 'high': 3}\n",
    "merged_df['new_state_tier_year1_num'] = merged_df['new_state_tier_year1_y'].map(tax_tier_mapping)\n",
    "merged_df['prev_state_tier_year1_num'] = merged_df['prev_state_tier_year1_y'].map(tax_tier_mapping)\n",
    "merged_df['new_state_tier_year2_num'] = merged_df['new_state_tier_year2_y'].map(tax_tier_mapping)\n",
    "merged_df['prev_state_tier_year2_num'] = merged_df['prev_state_tier_year2_y'].map(tax_tier_mapping)\n",
    "\n",
    "merged_df['tax_diff_year1'] = merged_df['new_state_tier_year1_num'] - merged_df['prev_state_tier_year1_num']\n",
    "merged_df['tax_diff_year2'] = merged_df['new_state_tier_year2_num'] - merged_df['prev_state_tier_year2_num']"
   ]
  },
  {
   "cell_type": "code",
   "execution_count": 47,
   "id": "df69f071-9254-46d7-b45e-b0d3704bc1c3",
   "metadata": {},
   "outputs": [],
   "source": [
    "# Ensure sufficient sample sizes\n",
    "min_sample_size = 10"
   ]
  },
  {
   "cell_type": "code",
   "execution_count": 48,
   "id": "9773bbc3-4519-4d65-9aab-d38f474647ec",
   "metadata": {},
   "outputs": [
    {
     "name": "stdout",
     "output_type": "stream",
     "text": [
      "Temperature differences - t-statistic: -0.69962809136618, p-value: 0.48483154381081073\n",
      "PCI differences - t-statistic: -0.8894896300814626, p-value: 0.3746653616580382\n",
      "Not enough data for tax significance test.\n"
     ]
    }
   ],
   "source": [
    "if len(temp_diff) >= min_sample_size:\n",
    "    temp_t_stat, temp_p_value = ttest_rel(temp_diff['temp_diff_year1'], temp_diff['temp_diff_year2'])\n",
    "    print(f'Temperature differences - t-statistic: {temp_t_stat}, p-value: {temp_p_value}')\n",
    "else:\n",
    "    print('Not enough data for temperature significance test.')\n",
    "\n",
    "if len(pci_diff) >= min_sample_size:\n",
    "    pci_t_stat, pci_p_value = ttest_rel(pci_diff['pci_diff_year1'], pci_diff['pci_diff_year2'])\n",
    "    print(f'PCI differences - t-statistic: {pci_t_stat}, p-value: {pci_p_value}')\n",
    "else:\n",
    "    print('Not enough data for PCI significance test.')\n",
    "\n",
    "if len(tax_diff) >= min_sample_size:\n",
    "    tax_t_stat, tax_p_value = ttest_rel(tax_diff['tax_diff_year1'], tax_diff['tax_diff_year2'])\n",
    "    print(f'Tax differences - t-statistic: {tax_t_stat}, p-value: {tax_p_value}')\n",
    "else:\n",
    "    print('Not enough data for tax significance test.')\n"
   ]
  },
  {
   "cell_type": "code",
   "execution_count": 50,
   "id": "4cbbd4db-df4d-4370-bf07-b19e585a1a21",
   "metadata": {},
   "outputs": [
    {
     "name": "stdout",
     "output_type": "stream",
     "text": [
      "The most significant difference is in: PCI\n"
     ]
    }
   ],
   "source": [
    "most_significant = min(results, key=results.get)\n",
    "print(f'The most significant difference is in: {most_significant}')"
   ]
  },
  {
   "cell_type": "code",
   "execution_count": null,
   "id": "06f95a39-b10b-4faa-badc-bd8f6a134fd7",
   "metadata": {},
   "outputs": [],
   "source": []
  }
 ],
 "metadata": {
  "kernelspec": {
   "display_name": "Python 3 (ipykernel)",
   "language": "python",
   "name": "python3"
  },
  "language_info": {
   "codemirror_mode": {
    "name": "ipython",
    "version": 3
   },
   "file_extension": ".py",
   "mimetype": "text/x-python",
   "name": "python",
   "nbconvert_exporter": "python",
   "pygments_lexer": "ipython3",
   "version": "3.10.5"
  }
 },
 "nbformat": 4,
 "nbformat_minor": 5
}
